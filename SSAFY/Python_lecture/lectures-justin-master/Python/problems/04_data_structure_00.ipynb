{
 "cells": [
  {
   "cell_type": "markdown",
   "metadata": {},
   "source": [
    "# 최대공약수, 최소공배수 구하기\n",
    "\n",
    "> 두 수를 입력받아 두 수의 최대공약수와 최소공배수를 반환하는 함수 `gcdlcm`을 작성하세요.\n",
    ">\n",
    "> 배열의 맨 앞에 최대공약수, 그 다음 최소공배수를 넣어 반환하세요. \n",
    ">\n",
    "> 예를 들어 두 수 3, 12의 최대공약수는 3, 최소공배수는 12이므로 `gcdlcm(3, 12)`는 `(3, 12)`를 반환해야 합니다. \n",
    "\n",
    "---\n",
    "\n",
    "예시)\n",
    "\n",
    "```python\n",
    "print(gcdlcm(3, 12)) #=> (3, 12)\n",
    "print(gcdlcm(1071, 1029)) #=> (21, 52479)\n",
    "```"
   ]
  },
  {
   "cell_type": "code",
   "execution_count": null,
   "metadata": {},
   "outputs": [],
   "source": [
    "# 아래에 코드를 작성하세요."
   ]
  },
  {
   "cell_type": "code",
   "execution_count": null,
   "metadata": {},
   "outputs": [],
   "source": [
    "# 최소공배수 = 두 수의 곱 / 최대 공약수 를 활용하세요.\n",
    "def gcdlcm(num1, num2):\n",
    "    for i in range(min(num1, num2),0,-1):#min ~ 1\n",
    "        if num1 % i == 0 and num2 % i == 0:\n",
    "            lcm = i\n",
    "            gcd = num1 * num2 // lcm\n",
    "            break\n",
    "    return lcm, gcd\n",
    "    \n",
    "#유클리드?\n",
    "\n"
   ]
  },
  {
   "cell_type": "code",
   "execution_count": 4,
   "metadata": {},
   "outputs": [],
   "source": [
    "# 유클리드 호제법 활용\n",
    "\n",
    "def gcdlcm(num1, num2):\n",
    "    #1. a > b 조건 \n",
    "    big_num, small_num = max(num1, num2), min(num1, num2)\n",
    "    \n",
    "    #2. 최솟값이 0보다 큰 경우에 -> 유클리드 호제법을 활용 \n",
    "    while small_num > 0:\n",
    "        big_num, small_num = small_num, big_num % small_num\n",
    "        \n",
    "    #3. 최대 공약수, 최소 공배수(두수의 곱/ 최대 공약수)\n",
    "    return big_num, int(num1*num2 / big_num) "
   ]
  },
  {
   "cell_type": "code",
   "execution_count": 9,
   "metadata": {},
   "outputs": [],
   "source": [
    "# python math 모듈 활용 - +3.5\n",
    "import math \n",
    "\n",
    "def gcdlcm(num1, num2):\n",
    "    return math.gcd(num1, num2), int((num1*num2) / math.gcd(num1, num2))"
   ]
  },
  {
   "cell_type": "code",
   "execution_count": 10,
   "metadata": {},
   "outputs": [
    {
     "name": "stdout",
     "output_type": "stream",
     "text": [
      "(3, 12)\n",
      "(21, 52479)\n"
     ]
    }
   ],
   "source": [
    "### 해당 코드를 통해 올바른 결과가 나오는지 확인하세요.\n",
    "print(gcdlcm(3, 12))\n",
    "print(gcdlcm(1071, 1029))"
   ]
  },
  {
   "cell_type": "markdown",
   "metadata": {},
   "source": [
    "# 불쌍한 달팽이 - 고전 수학문제\n",
    "\n",
    "> 달팽이는 낮 시간 동안에 기둥을 올라갑니다. 하지만 밤에는 잠을 자면서 어느 정도의 거리만큼 미끄러집니다. (낮 시간 동안 올라간 거리보다는 적게 미끄러집니다.)\n",
    "> \n",
    "> 달팽이가 기둥의 꼭대기에 도달하는 날까지 걸리는 시간을 반환하는 함수를 작성하세요.\n",
    "\n",
    "> 주의해야 할 것은 달팽이가 밤이 되서 잠을 자기 전에 기둥 끝에 도달할 수도 있습니다. \n",
    "\n",
    "> 함수의 인자는 다음과 같습니다.\n",
    "1. 기둥의 높이(미터)\n",
    "2. 낮 시간 동안 달팽이가 올라가는 거리(미터)\n",
    "3. 달팽이가 야간에 잠을 자는 동안 미끄러지는 거리(미터)\n",
    "\n",
    "---\n",
    "\n",
    "예시)\n",
    "```python\n",
    "snail(100, 5, 2)\n",
    "# => 33\n",
    "\n",
    "snail(100, 15, 2)\n",
    "#=> 7\n",
    "```"
   ]
  },
  {
   "cell_type": "code",
   "execution_count": null,
   "metadata": {},
   "outputs": [],
   "source": [
    "# 아래에 코드를 작성하세요."
   ]
  },
  {
   "cell_type": "code",
   "execution_count": 1,
   "metadata": {},
   "outputs": [],
   "source": [
    "#\n",
    "def snail(h, up, down):\n",
    "    day = 1\n",
    "    while(day*up - (day-1)*down <= h):\n",
    "        day += 1\n",
    "    return day"
   ]
  },
  {
   "cell_type": "code",
   "execution_count": 14,
   "metadata": {},
   "outputs": [],
   "source": [
    "# \n",
    "def snail(height, day, night):\n",
    "    count = 0\n",
    "    \n",
    "    #1. 계속 반복을 돈다. return을 만나 빠져 나갈 때까지!!\n",
    "    while True:\n",
    "        count += 1\n",
    "        #2. 낮 동안 올라간 만큼의 거리 빼자\n",
    "        height -= day\n",
    "        #3. 만약 해당 기둥의 높이가 0보다 작거나 같다면\n",
    "        if height <= 0:\n",
    "                #4. 그때의 count를 return\n",
    "            return count\n",
    "        #5. 아니면 다시 저녁에 미끄러지는 거리만큼의 거리를 height에 추가\n",
    "        height += night"
   ]
  },
  {
   "cell_type": "code",
   "execution_count": 15,
   "metadata": {},
   "outputs": [
    {
     "name": "stdout",
     "output_type": "stream",
     "text": [
      "33\n",
      "8\n"
     ]
    }
   ],
   "source": [
    "# 해당 코드를 통해 올바른 결과가 나오는지 확인하세요.\n",
    "print(snail(100, 5, 2))\n",
    "print(snail(100, 15, 2))"
   ]
  },
  {
   "cell_type": "markdown",
   "metadata": {},
   "source": [
    "# 무엇이 중복일까\n",
    "\n",
    "> 다음 리스트에서 중복되는 요소만 뽑아서 새로운 리스트를 반환하는 함수를 작성하세요.\n",
    "\n",
    "---\n",
    "\n",
    "예시)\n",
    "\n",
    "```python\n",
    "duplicated(['a', 'b', 'c', 'b', 'd', 'm', 'n', 'n', 'b'])\n",
    "\n",
    "['b', 'n']\n",
    "```"
   ]
  },
  {
   "cell_type": "code",
   "execution_count": null,
   "metadata": {
    "scrolled": false
   },
   "outputs": [],
   "source": [
    "# 아래에 코드를 작성하세요."
   ]
  },
  {
   "cell_type": "code",
   "execution_count": null,
   "metadata": {},
   "outputs": [],
   "source": [
    "#\n",
    "def duplicated(lst):\n",
    "    my_list = []\n",
    "    temp = []\n",
    "    for i in lst:\n",
    "        if i in temp and i not in my_list:\n",
    "            my_list.append(i)\n",
    "        else:\n",
    "            temp.append(i)\n",
    "    return my_list"
   ]
  },
  {
   "cell_type": "code",
   "execution_count": 16,
   "metadata": {},
   "outputs": [],
   "source": [
    "#1. \n",
    "def duplicated(words):\n",
    "    duplicates = []\n",
    "    for word in words:\n",
    "        if words.count(word) > 1 and word not in duplicates:\n",
    "            duplicates.append(word)\n",
    "    return duplicates"
   ]
  },
  {
   "cell_type": "code",
   "execution_count": 18,
   "metadata": {},
   "outputs": [],
   "source": [
    "#2. set comprehension 활용\n",
    "def duplicated(words):\n",
    "    return list({word for word in words if words.count(word) > 1})"
   ]
  },
  {
   "cell_type": "code",
   "execution_count": 19,
   "metadata": {},
   "outputs": [
    {
     "data": {
      "text/plain": [
       "['b', 'n']"
      ]
     },
     "execution_count": 19,
     "metadata": {},
     "output_type": "execute_result"
    }
   ],
   "source": [
    "# 해당 코드를 통해 올바른 결과가 나오는지 확인하세요.\n",
    "duplicated(['a', 'b', 'c', 'b', 'd', 'm', 'n', 'n', 'b'])"
   ]
  },
  {
   "cell_type": "markdown",
   "metadata": {},
   "source": [
    "# 알파벳만 남기고 뒤집기\n",
    "\n",
    "> 문자열이 주어지면, 해당 문자열 중에서 알파벳이 아닌 문자는 전부 빼고 거꾸로 뒤집어 반환하는 함수를 작성하세요.\n",
    "\n",
    "---\n",
    "\n",
    "예시)\n",
    "\n",
    "```python\n",
    "reverse_letter('krishan')\n",
    "'nahsirk'\n",
    "\n",
    "reverse_letter('ultr53o?n')\n",
    "'nortlu'\n",
    "```"
   ]
  },
  {
   "cell_type": "code",
   "execution_count": null,
   "metadata": {},
   "outputs": [],
   "source": [
    "# 아래에 코드를 작성하세요."
   ]
  },
  {
   "cell_type": "code",
   "execution_count": 20,
   "metadata": {},
   "outputs": [],
   "source": [
    "#1.\n",
    "def reverse_letter(string):\n",
    "    result = []\n",
    "    for char in string:\n",
    "        if char.isalpha():\n",
    "            result.append(char)\n",
    "    return ''.join(result[::-1])"
   ]
  },
  {
   "cell_type": "code",
   "execution_count": 22,
   "metadata": {},
   "outputs": [],
   "source": [
    "#2. list comprehension\n",
    "def reverse_letter(string):\n",
    "    result = [char for char in string if char.isalpha()]\n",
    "    return ''.join(result[::-1])"
   ]
  },
  {
   "cell_type": "code",
   "execution_count": 26,
   "metadata": {},
   "outputs": [],
   "source": [
    "#3. 문자열 slicing\n",
    "def reverse_letter(string):\n",
    "    result = ''\n",
    "    for char in string:\n",
    "        if char.isalpha():\n",
    "            result += char\n",
    "    return result[::-1]"
   ]
  },
  {
   "cell_type": "code",
   "execution_count": 27,
   "metadata": {},
   "outputs": [
    {
     "name": "stdout",
     "output_type": "stream",
     "text": [
      "nahsirk\n",
      "nortlu\n"
     ]
    }
   ],
   "source": [
    "# 해당 코드를 통해 올바른 결과가 나오는지 확인하세요.\n",
    "print(reverse_letter('krishan'))\n",
    "print(reverse_letter('ultr53o?n'))"
   ]
  },
  {
   "cell_type": "markdown",
   "metadata": {},
   "source": [
    "# 편-안한 단어\n",
    "\n",
    "> (QWERTY 키보드를 사용하여 타이핑 한다고 가정할 때) '편안한 단어'는 타이핑 할 때 **손을 번갈아 칠 수 있는 단어**를 말합니다.\n",
    ">\n",
    "> 단어를 인자로 받아 그것이 '편안한 단어'인지 여부를 True/False로 반환하는 함수를 작성하세요.\n",
    "* 모든 단어는 a ~ z까지 오름차순으로 구성된 문자열입니다.\n",
    "\n",
    "> 문자 목록\n",
    "- 왼손: q, w, e, r, t, a, s, d, f, g, z, x, c, v, b\n",
    "- 오른손: y, u, i, o, p, h, j, k, l, n, m"
   ]
  },
  {
   "cell_type": "code",
   "execution_count": null,
   "metadata": {},
   "outputs": [],
   "source": [
    "# 아래에 코드를 작성하세요."
   ]
  },
  {
   "cell_type": "code",
   "execution_count": 28,
   "metadata": {},
   "outputs": [],
   "source": [
    "#1. \n",
    "\n",
    "def comfortable_word(words):\n",
    "    left_word, right_word = 'qwertasdfgzxcvb', 'yuiophjklnm'\n",
    "    #1. 삼항 연산자 활용 \n",
    "    left = True if words[0] in left_word else False\n",
    "    \n",
    "    #2. 2번째 단어부터 검사 시작\n",
    "    for char in words[1:]:\n",
    "        #2-1. 첫번째가 왼손이고 앞에 타이핑 한 단어가 왼손이면 -> False\n",
    "        if char in left_word and left:\n",
    "            return False\n",
    "        #2-2. 첫번째가 오른손이고 앞에 타이핑한 단어가 오른손이면 -> False\n",
    "        if char in right_word and not left:\n",
    "            return False\n",
    "        #2-3. 손 change\n",
    "        left = not left\n",
    "    return True"
   ]
  },
  {
   "cell_type": "code",
   "execution_count": 29,
   "metadata": {},
   "outputs": [
    {
     "name": "stdout",
     "output_type": "stream",
     "text": [
      "True\n",
      "False\n"
     ]
    }
   ],
   "source": [
    "# 해당 코드를 통해 올바른 결과가 나오는지 확인하세요.\n",
    "print(comfortable_word('qywu'))\n",
    "print(comfortable_word('apple'))"
   ]
  },
  {
   "cell_type": "markdown",
   "metadata": {},
   "source": [
    "# 숫자패턴\n",
    "\n",
    ">원하는 행까지 아래의 패턴을 생성하는 함수를 작성하세요. 만약 인자가 0이나 음의 정수인 경우 빈 문자열(`''`)을 반환하세요.\n",
    "> \n",
    "> 짝수가 인수로 전달되면 패턴은 통과된 짝수보다 작은 최대 홀수까지 계속되어야 합니다.\n",
    "\n",
    "---\n",
    "\n",
    "예시)\n",
    "\n",
    "```python\n",
    "print(pattern(9)):\n",
    "\n",
    "1\n",
    "333\n",
    "55555\n",
    "7777777\n",
    "999999999\n",
    "\n",
    "print(pattern(6))\n",
    "1\n",
    "333\n",
    "55555\n",
    "```\n",
    "**유의) 패턴에 공백은 없습니다.**"
   ]
  },
  {
   "cell_type": "code",
   "execution_count": null,
   "metadata": {},
   "outputs": [],
   "source": [
    "# 아래에 코드를 작성하세요. --> 풀이법이 정말 다양!!"
   ]
  },
  {
   "cell_type": "code",
   "execution_count": 30,
   "metadata": {},
   "outputs": [],
   "source": [
    "#1. \n",
    "def pattern(n):\n",
    "    result = ''\n",
    "    if n % 2 == 0:\n",
    "        n -= 1\n",
    "    for x in range(1, n+1):\n",
    "        if x % 2:\n",
    "            result += str(x)*x + '\\n'\n",
    "    return result"
   ]
  },
  {
   "cell_type": "code",
   "execution_count": 34,
   "metadata": {},
   "outputs": [],
   "source": [
    "#2. \n",
    "def pattern(n):\n",
    "    result = [str(x)*x for x in range(1, n+1) if x % 2]\n",
    "    return '\\n'.join(result)"
   ]
  },
  {
   "cell_type": "code",
   "execution_count": 35,
   "metadata": {},
   "outputs": [
    {
     "name": "stdout",
     "output_type": "stream",
     "text": [
      "1\n",
      "333\n",
      "55555\n",
      "7777777\n",
      "999999999\n",
      "1\n",
      "333\n",
      "55555\n"
     ]
    }
   ],
   "source": [
    "# 해당 코드를 통해 올바른 결과가 나오는지 확인하세요.\n",
    "print(pattern(9))\n",
    "print(pattern(6))"
   ]
  },
  {
   "cell_type": "markdown",
   "metadata": {},
   "source": [
    "# 숫자가 좋아\n",
    "\n",
    "> 섞여있는 문자열 속에서 정수만 뽑아내 합을 반환하는 함수 `pick_and_sum(words)`를 작성하세요.\n",
    "\n",
    "---\n",
    "\n",
    "예시)\n",
    "```python\n",
    "pick_and_sum('The30quick20brown10f0x1203jumps914ov3r1349the102l4zy dog') #=> 3635\n",
    "```"
   ]
  },
  {
   "cell_type": "code",
   "execution_count": null,
   "metadata": {},
   "outputs": [],
   "source": [
    "# 아래에 코드를 작성하세요."
   ]
  },
  {
   "cell_type": "code",
   "execution_count": 37,
   "metadata": {},
   "outputs": [],
   "source": [
    "#1.\n",
    "def pick_and_sum(words):\n",
    "    result = 0\n",
    "    num = ''\n",
    "    \n",
    "    for word in words:\n",
    "        if word.isdecimal():\n",
    "            num = num + word\n",
    "        elif num:\n",
    "            result += int(num)\n",
    "            num = ''\n",
    "    return result"
   ]
  },
  {
   "cell_type": "code",
   "execution_count": 41,
   "metadata": {},
   "outputs": [],
   "source": [
    "#2. \n",
    "def pick_and_sum(words):\n",
    "    for word in words:\n",
    "        if not word.isdecimal():\n",
    "            words = words.replace(word, ' ')\n",
    "    # print(words)\n",
    "    # print(words.split())\n",
    "    return sum(map(int, words.split()))"
   ]
  },
  {
   "cell_type": "code",
   "execution_count": 42,
   "metadata": {},
   "outputs": [
    {
     "name": "stdout",
     "output_type": "stream",
     "text": [
      "3635\n"
     ]
    }
   ],
   "source": [
    "# 해당 코드를 통해 올바른 결과가 나오는지 확인하세요.\n",
    "print(pick_and_sum('The30quick20brown10f0x1203jumps914ov3r1349the102l4zy dog'))"
   ]
  }
 ],
 "metadata": {
  "kernelspec": {
   "display_name": "Python 3",
   "language": "python",
   "name": "python3"
  },
  "language_info": {
   "codemirror_mode": {
    "name": "ipython",
    "version": 3
   },
   "file_extension": ".py",
   "mimetype": "text/x-python",
   "name": "python",
   "nbconvert_exporter": "python",
   "pygments_lexer": "ipython3",
   "version": "3.7.3"
  },
  "latex_envs": {
   "LaTeX_envs_menu_present": true,
   "autoclose": false,
   "autocomplete": true,
   "bibliofile": "biblio.bib",
   "cite_by": "apalike",
   "current_citInitial": 1,
   "eqLabelWithNumbers": true,
   "eqNumInitial": 1,
   "hotkeys": {
    "equation": "Ctrl-E",
    "itemize": "Ctrl-I"
   },
   "labels_anchors": false,
   "latex_user_defs": false,
   "report_style_numbering": false,
   "user_envs_cfg": false
  },
  "toc": {
   "base_numbering": 1,
   "nav_menu": {},
   "number_sections": true,
   "sideBar": true,
   "skip_h1_title": false,
   "title_cell": "Table of Contents",
   "title_sidebar": "Contents",
   "toc_cell": false,
   "toc_position": {},
   "toc_section_display": true,
   "toc_window_display": false
  }
 },
 "nbformat": 4,
 "nbformat_minor": 2
}
