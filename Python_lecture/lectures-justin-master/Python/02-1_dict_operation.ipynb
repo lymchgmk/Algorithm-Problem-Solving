{
 "cells": [
  {
   "cell_type": "code",
   "execution_count": 1,
   "metadata": {},
   "outputs": [],
   "source": [
    "from pprint import pprint\n",
    "\n",
    "ssafy = {\n",
    "    'location': ['서울', '대전', '구미', '광주'],\n",
    "    'language': {\n",
    "        'python': {\n",
    "            'python standard library': ['os', 'random', 'webbrowser'],\n",
    "            'frameworks': {\n",
    "                'flask': 'micro',\n",
    "                'django': 'full-functioning'\n",
    "            },\n",
    "            'data_science': ['numpy', 'pandas', 'scipy', 'sklearn'],\n",
    "            'scraping': ['requests', 'bs4'],\n",
    "        },\n",
    "        'web' : ['HTML', 'CSS']\n",
    "    },\n",
    "    'classes': {\n",
    "        'gm': {\n",
    "            'lecturer': 'justin',\n",
    "            'manager': '김아름',\n",
    "            'class president': '박지은',\n",
    "            'groups': {\n",
    "                'A': ['이상준', '김민지', '이종우', '강성묵', '박현수'],\n",
    "                'B': ['홍세진', '이지훈', '주재성', '김태인', '문종혁'],\n",
    "                'C': ['유수정', '신경제', '김영주', '임준성'],\n",
    "                'D': ['유건우', '홍영주', '임창묵', '양진엽'],\n",
    "                'E': ['김지영', '도정우', '황영준', '안시경', '황신실']\n",
    "            }\n",
    "        },\n",
    "        'gj': {\n",
    "            'lecturer': 'change',\n",
    "            'manager': 'pro-gj'\n",
    "        }\n",
    "    }\n",
    "}"
   ]
  },
  {
   "cell_type": "code",
   "execution_count": null,
   "metadata": {},
   "outputs": [],
   "source": []
  },
  {
   "cell_type": "code",
   "execution_count": 3,
   "metadata": {},
   "outputs": [
    {
     "data": {
      "text/plain": [
       "4"
      ]
     },
     "execution_count": 3,
     "metadata": {},
     "output_type": "execute_result"
    }
   ],
   "source": [
    "\"\"\"\n",
    "난이도* 1. 지역(location)은 몇 개 있나요?\n",
    "출력예시)\n",
    "4\n",
    "\"\"\"\n",
    "len(ssafy['location'])"
   ]
  },
  {
   "cell_type": "code",
   "execution_count": 7,
   "metadata": {},
   "outputs": [
    {
     "data": {
      "text/plain": [
       "False"
      ]
     },
     "execution_count": 7,
     "metadata": {},
     "output_type": "execute_result"
    }
   ],
   "source": [
    "\"\"\"\n",
    "난이도** 2. python standard library에 'requests'가 있나요?\n",
    "출력예시)\n",
    "False\n",
    "\"\"\"\n",
    "'requests' in ssafy['language']['python']['python standard library']"
   ]
  },
  {
   "cell_type": "code",
   "execution_count": 10,
   "metadata": {},
   "outputs": [
    {
     "data": {
      "text/plain": [
       "'박지은'"
      ]
     },
     "execution_count": 10,
     "metadata": {},
     "output_type": "execute_result"
    }
   ],
   "source": [
    "\"\"\"\n",
    "난이도** 3. gm 반의 반장의 이름을 출력하세요.\n",
    "출력예시)\n",
    "박지은\n",
    "\"\"\"\n",
    "ssafy['classes']['gm']['class president']"
   ]
  },
  {
   "cell_type": "code",
   "execution_count": 13,
   "metadata": {},
   "outputs": [
    {
     "name": "stdout",
     "output_type": "stream",
     "text": [
      "python\n",
      "web\n"
     ]
    }
   ],
   "source": [
    "\"\"\"\n",
    "난이도*** 4. ssafy에서 배우는 언어들을 출력하세요.\n",
    "출력 예시)\n",
    "python\n",
    "web\n",
    "\"\"\"\n",
    "for lang in ssafy['language'].keys():\n",
    "    print(lang)"
   ]
  },
  {
   "cell_type": "code",
   "execution_count": 17,
   "metadata": {},
   "outputs": [
    {
     "name": "stdout",
     "output_type": "stream",
     "text": [
      "change\n",
      "pro-gj\n"
     ]
    }
   ],
   "source": [
    "\"\"\"\n",
    "난이도*** 5 ssafy gj반의 강사와 매니저의 이름을 출력하세요.\n",
    "출력 예시)\n",
    "change\n",
    "pro-gj\n",
    "\"\"\"\n",
    "for name in ssafy['classes']['gj'].values():\n",
    "    print(name)"
   ]
  },
  {
   "cell_type": "code",
   "execution_count": 21,
   "metadata": {
    "scrolled": true
   },
   "outputs": [
    {
     "name": "stdout",
     "output_type": "stream",
     "text": [
      "flask는 micro이다.\n",
      "django는 full-functioning이다.\n"
     ]
    }
   ],
   "source": [
    "\"\"\"\n",
    "난이도***** 6. framework 들의 이름과 설명을 다음과 같이 출력하세요.\n",
    "출력 예시)\n",
    "flask는 micro이다.\n",
    "django는 full-functioning이다.\n",
    "\"\"\"\n",
    "\n",
    "for name, des in ssafy['language']['python']['frameworks'].items():\n",
    "    print(f'{name}는 {des}이다.')"
   ]
  },
  {
   "cell_type": "code",
   "execution_count": 29,
   "metadata": {
    "scrolled": true
   },
   "outputs": [
    {
     "name": "stdout",
     "output_type": "stream",
     "text": [
      "황신실\n"
     ]
    }
   ],
   "source": [
    "\"\"\"\n",
    "난이도***** 7. 오늘 당번을 뽑기 위해 groups의 E 그룹에서 한명을 랜덤으로 뽑아주세요.\n",
    "출력예시)\n",
    "오늘의 당번은 주재성\n",
    "\"\"\"\n",
    "import random\n",
    "\n",
    "names = ssafy['classes']['gm']['groups']['E']\n",
    "\n",
    "result = random.choice(names)\n",
    "print(result)"
   ]
  }
 ],
 "metadata": {
  "kernelspec": {
   "display_name": "Python 3",
   "language": "python",
   "name": "python3"
  },
  "language_info": {
   "codemirror_mode": {
    "name": "ipython",
    "version": 3
   },
   "file_extension": ".py",
   "mimetype": "text/x-python",
   "name": "python",
   "nbconvert_exporter": "python",
   "pygments_lexer": "ipython3",
   "version": "3.7.3"
  },
  "toc": {
   "base_numbering": 1,
   "nav_menu": {},
   "number_sections": true,
   "sideBar": true,
   "skip_h1_title": false,
   "title_cell": "Table of Contents",
   "title_sidebar": "Contents",
   "toc_cell": false,
   "toc_position": {},
   "toc_section_display": true,
   "toc_window_display": false
  }
 },
 "nbformat": 4,
 "nbformat_minor": 2
}
